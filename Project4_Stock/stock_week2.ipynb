{
 "cells": [
  {
   "cell_type": "markdown",
   "metadata": {},
   "source": [
    "## Continuing on last week's work\n",
    "This week, I'm also using the Linear Regression method to predict the close price. Last week's model didn't predict the results very well. Let's see how is this week's model."
   ]
  },
  {
   "cell_type": "code",
   "execution_count": 1,
   "metadata": {},
   "outputs": [],
   "source": [
    "import yfinance as yf\n",
    "import pandas as pd\n",
    "from sklearn.model_selection import train_test_split\n",
    "from sklearn.linear_model import LinearRegression"
   ]
  },
  {
   "cell_type": "code",
   "execution_count": 2,
   "metadata": {},
   "outputs": [],
   "source": [
    "symbols = [\"AAPL\", \"MSFT\", \"GOOG\", \"AMZN\", \"FB\"]"
   ]
  },
  {
   "cell_type": "code",
   "execution_count": null,
   "metadata": {},
   "outputs": [],
   "source": [
    "predicted_list = []\n",
    "latest_close_list = []\n",
    "\n",
    "for symbol in symbols:\n",
    "    # Download data\n",
    "    data_1d = yf.download(symbol, start=\"2016-01-01\", end=\"2021-11-26\")\n",
    "\n",
    "    # Preprocess data\n",
    "    tmp = data_1d[[\"Adj Close\"]]\n",
    "    tmp[\"mean_5\"] = tmp[\"Adj Close\"].shift(1).rolling(window=5).mean()\n",
    "    tmp[\"mean_10\"] = tmp[\"Adj Close\"].shift(1).rolling(window=10).mean()\n",
    "    tmp = tmp.dropna()\n",
    "    x = tmp[[\"mean_5\", \"mean_10\"]]\n",
    "    y = tmp[[\"Adj Close\"]]\n",
    "    x_train, x_test, y_train, y_test = train_test_split(x, y, test_size=0.2, random_state=1)\n",
    "\n",
    "    # Apply model\n",
    "    model = LinearRegression()\n",
    "    model.fit(x_train, y_train)\n",
    "\n",
    "    # Use model to predict \n",
    "    tmp = data_1d[[\"Adj Close\"]][-10:]\n",
    "    tmp.loc[tmp.shape[0]] = [0]\n",
    "    tmp[\"mean_5\"] = tmp[\"Adj Close\"].shift(1).rolling(window=5).mean()\n",
    "    tmp[\"mean_10\"] = tmp[\"Adj Close\"].shift(1).rolling(window=10).mean()\n",
    "    tmp = tmp.dropna()\n",
    "    tmp = tmp[[\"mean_5\", \"mean_10\"]]\n",
    "\n",
    "    predicted = float(model.predict(tmp))\n",
    "    predicted_list.append(predicted)\n",
    "    latest_close = float(data_1d[\"Adj Close\"][-1:])\n",
    "    latest_close_list.append(latest_close)"
   ]
  },
  {
   "cell_type": "code",
   "execution_count": 4,
   "metadata": {},
   "outputs": [
    {
     "name": "stdout",
     "output_type": "stream",
     "text": [
      "Predicted adjusted close price:\n",
      "AAPL: 163.28709175572652 - Predicted change: 1.347 (0.0083%)\n",
      "MSFT: 341.89977301161076 - Predicted change: 3.99 (0.0118%)\n",
      "GOOG: 2971.6042700723738 - Predicted change: 37.254 (0.0127%)\n",
      "AMZN: 3639.6652702713436 - Predicted change: 59.255 (0.0165%)\n",
      "FB: 340.8993911158849 - Predicted change: -0.161 (-0.0005%)\n"
     ]
    }
   ],
   "source": [
    "predicted_change_list = []\n",
    "percent_change_list = []\n",
    "print(\"Predicted adjusted close price:\")\n",
    "for i, symbol in enumerate(symbols):\n",
    "    predicted_change_list.append( predicted_list[i] - latest_close_list[i] )\n",
    "    percent_change_list.append(predicted_change_list[i] / latest_close_list[i])\n",
    "    print(\n",
    "        f\"{symbol}: {predicted_list[i]} - Predicted change: {round(predicted_change_list[i], 3)} ({round(percent_change_list[i], 4)}%)\"\n",
    "        )\n",
    "    "
   ]
  },
  {
   "cell_type": "markdown",
   "metadata": {},
   "source": [
    "## Decision\n",
    "As a result, I bought more AAPL, MSFT, GOOG, AMZN, but not FB."
   ]
  }
 ],
 "metadata": {
  "interpreter": {
   "hash": "469bef1d9046da550475be75a0d02251237702c627afbfd44f5c23d5df9eab51"
  },
  "kernelspec": {
   "display_name": "Python 3.8.1 64-bit",
   "language": "python",
   "name": "python3"
  },
  "language_info": {
   "codemirror_mode": {
    "name": "ipython",
    "version": 3
   },
   "file_extension": ".py",
   "mimetype": "text/x-python",
   "name": "python",
   "nbconvert_exporter": "python",
   "pygments_lexer": "ipython3",
   "version": "3.8.1"
  },
  "orig_nbformat": 4
 },
 "nbformat": 4,
 "nbformat_minor": 2
}
