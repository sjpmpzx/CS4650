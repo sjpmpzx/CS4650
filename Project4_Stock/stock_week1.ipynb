{
 "cells": [
  {
   "cell_type": "code",
   "execution_count": 1,
   "metadata": {},
   "outputs": [],
   "source": [
    "import yfinance as yf\n",
    "import matplotlib.pyplot as plt\n",
    "import pandas as pd"
   ]
  },
  {
   "cell_type": "markdown",
   "metadata": {},
   "source": [
    "## Selecting companies \n",
    "I choose five technologies companies that I am familiar with from the rank of market cap. They are Apple (AAPL), Microsoft (MSFT), Google (GOOG), Amazon (AMZN), and Facebook (FB)."
   ]
  },
  {
   "cell_type": "code",
   "execution_count": 2,
   "metadata": {},
   "outputs": [],
   "source": [
    "symbols = [\"AAPL\", \"MSFT\", \"GOOG\", \"AMZN\", \"FB\"]"
   ]
  },
  {
   "cell_type": "markdown",
   "metadata": {},
   "source": [
    "## Testing the Method\n",
    "### 1. Download Data\n",
    "Before applying learning and testing to all of them, I use one of them (Google) to try and test my ml approach.\n",
    "\n",
    "I download its historical data from the past 5 years with an interval of 1 day."
   ]
  },
  {
   "cell_type": "code",
   "execution_count": 3,
   "metadata": {},
   "outputs": [
    {
     "name": "stdout",
     "output_type": "stream",
     "text": [
      "[*********************100%***********************]  1 of 1 completed\n"
     ]
    }
   ],
   "source": [
    "data_1d = yf.download(\"GOOG\", start=\"2016-01-01\", end=\"2021-11-19\")"
   ]
  },
  {
   "cell_type": "code",
   "execution_count": 4,
   "metadata": {},
   "outputs": [
    {
     "data": {
      "text/html": [
       "<div>\n",
       "<style scoped>\n",
       "    .dataframe tbody tr th:only-of-type {\n",
       "        vertical-align: middle;\n",
       "    }\n",
       "\n",
       "    .dataframe tbody tr th {\n",
       "        vertical-align: top;\n",
       "    }\n",
       "\n",
       "    .dataframe thead th {\n",
       "        text-align: right;\n",
       "    }\n",
       "</style>\n",
       "<table border=\"1\" class=\"dataframe\">\n",
       "  <thead>\n",
       "    <tr style=\"text-align: right;\">\n",
       "      <th></th>\n",
       "      <th>Open</th>\n",
       "      <th>High</th>\n",
       "      <th>Low</th>\n",
       "      <th>Close</th>\n",
       "      <th>Adj Close</th>\n",
       "      <th>Volume</th>\n",
       "    </tr>\n",
       "    <tr>\n",
       "      <th>Date</th>\n",
       "      <th></th>\n",
       "      <th></th>\n",
       "      <th></th>\n",
       "      <th></th>\n",
       "      <th></th>\n",
       "      <th></th>\n",
       "    </tr>\n",
       "  </thead>\n",
       "  <tbody>\n",
       "    <tr>\n",
       "      <th>2016-01-04</th>\n",
       "      <td>743.000000</td>\n",
       "      <td>744.059998</td>\n",
       "      <td>731.257996</td>\n",
       "      <td>741.840027</td>\n",
       "      <td>741.840027</td>\n",
       "      <td>3272800</td>\n",
       "    </tr>\n",
       "    <tr>\n",
       "      <th>2016-01-05</th>\n",
       "      <td>746.450012</td>\n",
       "      <td>752.000000</td>\n",
       "      <td>738.640015</td>\n",
       "      <td>742.580017</td>\n",
       "      <td>742.580017</td>\n",
       "      <td>1950700</td>\n",
       "    </tr>\n",
       "    <tr>\n",
       "      <th>2016-01-06</th>\n",
       "      <td>730.000000</td>\n",
       "      <td>747.179993</td>\n",
       "      <td>728.919983</td>\n",
       "      <td>743.619995</td>\n",
       "      <td>743.619995</td>\n",
       "      <td>1947000</td>\n",
       "    </tr>\n",
       "    <tr>\n",
       "      <th>2016-01-07</th>\n",
       "      <td>730.309998</td>\n",
       "      <td>738.500000</td>\n",
       "      <td>719.059998</td>\n",
       "      <td>726.390015</td>\n",
       "      <td>726.390015</td>\n",
       "      <td>2963700</td>\n",
       "    </tr>\n",
       "    <tr>\n",
       "      <th>2016-01-08</th>\n",
       "      <td>731.450012</td>\n",
       "      <td>733.229980</td>\n",
       "      <td>713.000000</td>\n",
       "      <td>714.469971</td>\n",
       "      <td>714.469971</td>\n",
       "      <td>2450900</td>\n",
       "    </tr>\n",
       "    <tr>\n",
       "      <th>...</th>\n",
       "      <td>...</td>\n",
       "      <td>...</td>\n",
       "      <td>...</td>\n",
       "      <td>...</td>\n",
       "      <td>...</td>\n",
       "      <td>...</td>\n",
       "    </tr>\n",
       "    <tr>\n",
       "      <th>2021-11-12</th>\n",
       "      <td>2956.629883</td>\n",
       "      <td>2997.189941</td>\n",
       "      <td>2929.080078</td>\n",
       "      <td>2992.909912</td>\n",
       "      <td>2992.909912</td>\n",
       "      <td>852000</td>\n",
       "    </tr>\n",
       "    <tr>\n",
       "      <th>2021-11-15</th>\n",
       "      <td>3000.000000</td>\n",
       "      <td>3009.540039</td>\n",
       "      <td>2973.050049</td>\n",
       "      <td>2987.760010</td>\n",
       "      <td>2987.760010</td>\n",
       "      <td>812400</td>\n",
       "    </tr>\n",
       "    <tr>\n",
       "      <th>2021-11-16</th>\n",
       "      <td>2983.409912</td>\n",
       "      <td>2996.649902</td>\n",
       "      <td>2967.000000</td>\n",
       "      <td>2981.520020</td>\n",
       "      <td>2981.520020</td>\n",
       "      <td>862700</td>\n",
       "    </tr>\n",
       "    <tr>\n",
       "      <th>2021-11-17</th>\n",
       "      <td>2984.580078</td>\n",
       "      <td>2992.520020</td>\n",
       "      <td>2971.260010</td>\n",
       "      <td>2981.239990</td>\n",
       "      <td>2981.239990</td>\n",
       "      <td>764500</td>\n",
       "    </tr>\n",
       "    <tr>\n",
       "      <th>2021-11-18</th>\n",
       "      <td>2982.919922</td>\n",
       "      <td>3032.199951</td>\n",
       "      <td>2979.969971</td>\n",
       "      <td>3014.179932</td>\n",
       "      <td>3014.179932</td>\n",
       "      <td>1332900</td>\n",
       "    </tr>\n",
       "  </tbody>\n",
       "</table>\n",
       "<p>1482 rows × 6 columns</p>\n",
       "</div>"
      ],
      "text/plain": [
       "                   Open         High          Low        Close    Adj Close  \\\n",
       "Date                                                                          \n",
       "2016-01-04   743.000000   744.059998   731.257996   741.840027   741.840027   \n",
       "2016-01-05   746.450012   752.000000   738.640015   742.580017   742.580017   \n",
       "2016-01-06   730.000000   747.179993   728.919983   743.619995   743.619995   \n",
       "2016-01-07   730.309998   738.500000   719.059998   726.390015   726.390015   \n",
       "2016-01-08   731.450012   733.229980   713.000000   714.469971   714.469971   \n",
       "...                 ...          ...          ...          ...          ...   \n",
       "2021-11-12  2956.629883  2997.189941  2929.080078  2992.909912  2992.909912   \n",
       "2021-11-15  3000.000000  3009.540039  2973.050049  2987.760010  2987.760010   \n",
       "2021-11-16  2983.409912  2996.649902  2967.000000  2981.520020  2981.520020   \n",
       "2021-11-17  2984.580078  2992.520020  2971.260010  2981.239990  2981.239990   \n",
       "2021-11-18  2982.919922  3032.199951  2979.969971  3014.179932  3014.179932   \n",
       "\n",
       "             Volume  \n",
       "Date                 \n",
       "2016-01-04  3272800  \n",
       "2016-01-05  1950700  \n",
       "2016-01-06  1947000  \n",
       "2016-01-07  2963700  \n",
       "2016-01-08  2450900  \n",
       "...             ...  \n",
       "2021-11-12   852000  \n",
       "2021-11-15   812400  \n",
       "2021-11-16   862700  \n",
       "2021-11-17   764500  \n",
       "2021-11-18  1332900  \n",
       "\n",
       "[1482 rows x 6 columns]"
      ]
     },
     "execution_count": 4,
     "metadata": {},
     "output_type": "execute_result"
    }
   ],
   "source": [
    "data_1d"
   ]
  },
  {
   "cell_type": "markdown",
   "metadata": {},
   "source": [
    "### 2. Prepocessing Data\n",
    "I decide to use **Linear Regression** as my ML model and use the ***mean* adjusted close price of the past 5 days** and the ***mean* adjusted close price of the past 10 days** as *x* (the input), and the **adjusted close price** as *y* (the value we want to predict). Hopefully, we can get a model that predicts the next close price based on the data from the past few days."
   ]
  },
  {
   "cell_type": "code",
   "execution_count": null,
   "metadata": {},
   "outputs": [],
   "source": [
    "tmp = data_1d[[\"Adj Close\"]]\n",
    "# shift(1) becasue we don't want to include the current price when calculating the mean\n",
    "tmp[\"mean_5\"] = tmp[\"Adj Close\"].shift(1).rolling(window=5).mean()\n",
    "tmp[\"mean_10\"] = tmp[\"Adj Close\"].shift(1).rolling(window=10).mean()\n",
    "\n",
    "tmp = tmp.dropna()\n",
    "\n",
    "x = tmp[[\"mean_5\", \"mean_10\"]]\n",
    "y = tmp[[\"Adj Close\"]]"
   ]
  },
  {
   "cell_type": "code",
   "execution_count": 6,
   "metadata": {},
   "outputs": [
    {
     "data": {
      "text/html": [
       "<div>\n",
       "<style scoped>\n",
       "    .dataframe tbody tr th:only-of-type {\n",
       "        vertical-align: middle;\n",
       "    }\n",
       "\n",
       "    .dataframe tbody tr th {\n",
       "        vertical-align: top;\n",
       "    }\n",
       "\n",
       "    .dataframe thead th {\n",
       "        text-align: right;\n",
       "    }\n",
       "</style>\n",
       "<table border=\"1\" class=\"dataframe\">\n",
       "  <thead>\n",
       "    <tr style=\"text-align: right;\">\n",
       "      <th></th>\n",
       "      <th>mean_5</th>\n",
       "      <th>mean_10</th>\n",
       "    </tr>\n",
       "    <tr>\n",
       "      <th>Date</th>\n",
       "      <th></th>\n",
       "      <th></th>\n",
       "    </tr>\n",
       "  </thead>\n",
       "  <tbody>\n",
       "    <tr>\n",
       "      <th>2016-01-19</th>\n",
       "      <td>710.366003</td>\n",
       "      <td>722.073004</td>\n",
       "    </tr>\n",
       "    <tr>\n",
       "      <th>2016-01-20</th>\n",
       "      <td>707.517993</td>\n",
       "      <td>718.067999</td>\n",
       "    </tr>\n",
       "    <tr>\n",
       "      <th>2016-01-21</th>\n",
       "      <td>701.993994</td>\n",
       "      <td>713.654999</td>\n",
       "    </tr>\n",
       "    <tr>\n",
       "      <th>2016-01-22</th>\n",
       "      <td>703.200000</td>\n",
       "      <td>709.952002</td>\n",
       "    </tr>\n",
       "    <tr>\n",
       "      <th>2016-01-25</th>\n",
       "      <td>705.306006</td>\n",
       "      <td>709.838000</td>\n",
       "    </tr>\n",
       "    <tr>\n",
       "      <th>...</th>\n",
       "      <td>...</td>\n",
       "      <td>...</td>\n",
       "    </tr>\n",
       "    <tr>\n",
       "      <th>2021-11-12</th>\n",
       "      <td>2964.860010</td>\n",
       "      <td>2949.190991</td>\n",
       "    </tr>\n",
       "    <tr>\n",
       "      <th>2021-11-15</th>\n",
       "      <td>2966.477979</td>\n",
       "      <td>2951.940991</td>\n",
       "    </tr>\n",
       "    <tr>\n",
       "      <th>2021-11-16</th>\n",
       "      <td>2966.623975</td>\n",
       "      <td>2963.168994</td>\n",
       "    </tr>\n",
       "    <tr>\n",
       "      <th>2021-11-17</th>\n",
       "      <td>2965.933984</td>\n",
       "      <td>2969.594995</td>\n",
       "    </tr>\n",
       "    <tr>\n",
       "      <th>2021-11-18</th>\n",
       "      <td>2975.677979</td>\n",
       "      <td>2974.138989</td>\n",
       "    </tr>\n",
       "  </tbody>\n",
       "</table>\n",
       "<p>1472 rows × 2 columns</p>\n",
       "</div>"
      ],
      "text/plain": [
       "                 mean_5      mean_10\n",
       "Date                                \n",
       "2016-01-19   710.366003   722.073004\n",
       "2016-01-20   707.517993   718.067999\n",
       "2016-01-21   701.993994   713.654999\n",
       "2016-01-22   703.200000   709.952002\n",
       "2016-01-25   705.306006   709.838000\n",
       "...                 ...          ...\n",
       "2021-11-12  2964.860010  2949.190991\n",
       "2021-11-15  2966.477979  2951.940991\n",
       "2021-11-16  2966.623975  2963.168994\n",
       "2021-11-17  2965.933984  2969.594995\n",
       "2021-11-18  2975.677979  2974.138989\n",
       "\n",
       "[1472 rows x 2 columns]"
      ]
     },
     "execution_count": 6,
     "metadata": {},
     "output_type": "execute_result"
    }
   ],
   "source": [
    "x"
   ]
  },
  {
   "cell_type": "code",
   "execution_count": 7,
   "metadata": {},
   "outputs": [],
   "source": [
    "from sklearn.model_selection import train_test_split\n",
    "\n",
    "# Split x and y into traing and tesing set\n",
    "x_train, x_test, y_train, y_test = train_test_split(x, y, test_size=0.2, random_state=1)"
   ]
  },
  {
   "cell_type": "markdown",
   "metadata": {},
   "source": [
    "### 3. Applying ML Model and Testing Predictions\n",
    "Use the Linear Regression model to learn the data and test its performance.\n",
    "\n",
    "Both the score and the plot seem to show promising results."
   ]
  },
  {
   "cell_type": "code",
   "execution_count": 8,
   "metadata": {},
   "outputs": [
    {
     "data": {
      "text/plain": [
       "0.9973588199879866"
      ]
     },
     "execution_count": 8,
     "metadata": {},
     "output_type": "execute_result"
    }
   ],
   "source": [
    "from sklearn.linear_model import LinearRegression\n",
    "\n",
    "model = LinearRegression()\n",
    "model.fit(x_train, y_train)\n",
    "\n",
    "model.score(x_test, y_test)"
   ]
  },
  {
   "cell_type": "code",
   "execution_count": 9,
   "metadata": {},
   "outputs": [
    {
     "data": {
      "text/plain": [
       "<matplotlib.axes._subplots.AxesSubplot at 0x23f0308ffa0>"
      ]
     },
     "execution_count": 9,
     "metadata": {},
     "output_type": "execute_result"
    },
    {
     "data": {
      "image/png": "[encoded data removed]",
      "text/plain": [
       "<Figure size 720x360 with 1 Axes>"
      ]
     },
     "metadata": {
      "needs_background": "light"
     },
     "output_type": "display_data"
    },
    {
     "data": {
      "image/png": "[encoded data removed]",
      "text/plain": [
       "<Figure size 720x360 with 1 Axes>"
      ]
     },
     "metadata": {
      "needs_background": "light"
     },
     "output_type": "display_data"
    }
   ],
   "source": [
    "predicted = model.predict(x_test)\n",
    "predicted = pd.DataFrame(predicted, index=y_test.index, columns = ['price']) \n",
    "predicted.plot(figsize=(10,5), title=\"Predicted price\")\n",
    "y_test.plot(figsize=(10,5), title=\"Real price\")"
   ]
  },
  {
   "cell_type": "markdown",
   "metadata": {},
   "source": [
    "Try to make a prediction for Google's adjusted close price on the next day (2021-11-19)."
   ]
  },
  {
   "cell_type": "code",
   "execution_count": 10,
   "metadata": {},
   "outputs": [
    {
     "data": {
      "text/html": [
       "<div>\n",
       "<style scoped>\n",
       "    .dataframe tbody tr th:only-of-type {\n",
       "        vertical-align: middle;\n",
       "    }\n",
       "\n",
       "    .dataframe tbody tr th {\n",
       "        vertical-align: top;\n",
       "    }\n",
       "\n",
       "    .dataframe thead th {\n",
       "        text-align: right;\n",
       "    }\n",
       "</style>\n",
       "<table border=\"1\" class=\"dataframe\">\n",
       "  <thead>\n",
       "    <tr style=\"text-align: right;\">\n",
       "      <th></th>\n",
       "      <th>mean_5</th>\n",
       "      <th>mean_10</th>\n",
       "    </tr>\n",
       "    <tr>\n",
       "      <th>Date</th>\n",
       "      <th></th>\n",
       "      <th></th>\n",
       "    </tr>\n",
       "  </thead>\n",
       "  <tbody>\n",
       "    <tr>\n",
       "      <th>10</th>\n",
       "      <td>2991.521973</td>\n",
       "      <td>2978.190991</td>\n",
       "    </tr>\n",
       "  </tbody>\n",
       "</table>\n",
       "</div>"
      ],
      "text/plain": [
       "           mean_5      mean_10\n",
       "Date                          \n",
       "10    2991.521973  2978.190991"
      ]
     },
     "execution_count": 10,
     "metadata": {},
     "output_type": "execute_result"
    }
   ],
   "source": [
    "tmp = data_1d[[\"Adj Close\"]][-10:]  # Only the last 10 rows are needed\n",
    "tmp.loc[tmp.shape[0]] = [0]     # Add a row for the next day\n",
    "tmp[\"mean_5\"] = tmp[\"Adj Close\"].shift(1).rolling(window=5).mean()\n",
    "tmp[\"mean_10\"] = tmp[\"Adj Close\"].shift(1).rolling(window=10).mean()\n",
    "\n",
    "tmp = tmp.dropna()\n",
    "tmp = tmp[[\"mean_5\", \"mean_10\"]]\n",
    "tmp"
   ]
  },
  {
   "cell_type": "code",
   "execution_count": 11,
   "metadata": {},
   "outputs": [
    {
     "data": {
      "text/plain": [
       "3008.8365287963397"
      ]
     },
     "execution_count": 11,
     "metadata": {},
     "output_type": "execute_result"
    }
   ],
   "source": [
    "float(model.predict(tmp))"
   ]
  },
  {
   "cell_type": "markdown",
   "metadata": {},
   "source": [
    "## Applying Method\n",
    "Apply the above method to all companies I select and predict the next close prices:"
   ]
  },
  {
   "cell_type": "code",
   "execution_count": null,
   "metadata": {},
   "outputs": [],
   "source": [
    "predicted_list = []\n",
    "latest_close_list = []\n",
    "\n",
    "for symbol in symbols:\n",
    "    # Download data\n",
    "    data_1d = yf.download(symbol, start=\"2016-01-01\", end=\"2021-11-19\")\n",
    "\n",
    "    # Preprocess data\n",
    "    tmp = data_1d[[\"Adj Close\"]]\n",
    "    tmp[\"mean_5\"] = tmp[\"Adj Close\"].shift(1).rolling(window=5).mean()\n",
    "    tmp[\"mean_10\"] = tmp[\"Adj Close\"].shift(1).rolling(window=10).mean()\n",
    "    tmp = tmp.dropna()\n",
    "    x = tmp[[\"mean_5\", \"mean_10\"]]\n",
    "    y = tmp[[\"Adj Close\"]]\n",
    "    x_train, x_test, y_train, y_test = train_test_split(x, y, test_size=0.2, random_state=1)\n",
    "\n",
    "    # Apply model\n",
    "    model = LinearRegression()\n",
    "    model.fit(x_train, y_train)\n",
    "\n",
    "    # Use model to predict \n",
    "    tmp = data_1d[[\"Adj Close\"]][-10:]\n",
    "    tmp.loc[tmp.shape[0]] = [0]\n",
    "    tmp[\"mean_5\"] = tmp[\"Adj Close\"].shift(1).rolling(window=5).mean()\n",
    "    tmp[\"mean_10\"] = tmp[\"Adj Close\"].shift(1).rolling(window=10).mean()\n",
    "    tmp = tmp.dropna()\n",
    "    tmp = tmp[[\"mean_5\", \"mean_10\"]]\n",
    "\n",
    "    predicted = float(model.predict(tmp))\n",
    "    predicted_list.append(predicted)\n",
    "    latest_close = float(data_1d[\"Adj Close\"][-1:])\n",
    "    latest_close_list.append(latest_close)"
   ]
  },
  {
   "cell_type": "code",
   "execution_count": 13,
   "metadata": {},
   "outputs": [
    {
     "name": "stdout",
     "output_type": "stream",
     "text": [
      "Predicted adjusted close price:\n",
      "AAPL: 153.38443737903611 - Predicted change: -4.486 (-0.0284%)\n",
      "MSFT: 340.1002175239367 - Predicted change: -1.17 (-0.0034%)\n",
      "GOOG: 3008.8365287963397 - Predicted change: -5.343 (-0.0018%)\n",
      "AMZN: 3587.3291394348234 - Predicted change: -108.731 (-0.0294%)\n",
      "FB: 343.8463922857373 - Predicted change: 5.156 (0.0152%)\n"
     ]
    }
   ],
   "source": [
    "predicted_change_list = []\n",
    "percent_change_list = []\n",
    "print(\"Predicted adjusted close price:\")\n",
    "for i, symbol in enumerate(symbols):\n",
    "    predicted_change_list.append( predicted_list[i] - latest_close_list[i] )\n",
    "    percent_change_list.append(predicted_change_list[i] / latest_close_list[i])\n",
    "    print(\n",
    "        f\"{symbol}: {predicted_list[i]} - Predicted change: {round(predicted_change_list[i], 3)} ({round(percent_change_list[i], 4)}%)\"\n",
    "        )\n",
    "    "
   ]
  },
  {
   "cell_type": "markdown",
   "metadata": {},
   "source": [
    "## Decision\n",
    "For the first week, I'm planning to only allocate about 20% of my funds (which is $50,000). And base on the above prediction, I want to allocate more on Facebook and less on Amazon than the others. \n",
    "\n",
    "However, the real-time price changed a lot from the last close price when I purchased them. I may also need to use data with shorter time intervals next time or connect to Investopedia's API to do something automatically.\n",
    "\n",
    "Final result:\n",
    "| Symbol | QTY | Purchase Price | Total Value | Current Price |\n",
    "|---|---|---|---|---|\n",
    "| AAPL | 4 | $160.70 | $642.20 | $160.55 |\n",
    "| MSFT | 2 | $343.15 | $686.22 | $343.11 |\n",
    "| GOOG | 10 | $3,003.58 | $29,990.50 | $2,999.05 |\n",
    "| AMZN | 1 | $3,705.51 | $3,676.57 | $3,676.57 |\n",
    "| FB | 87 | $346.86 | $30,041.10 | $345.30 |\n",
    "\n"
   ]
  }
 ],
 "metadata": {
  "interpreter": {
   "hash": "469bef1d9046da550475be75a0d02251237702c627afbfd44f5c23d5df9eab51"
  },
  "kernelspec": {
   "display_name": "Python 3.8.1 64-bit",
   "language": "python",
   "name": "python3"
  },
  "language_info": {
   "codemirror_mode": {
    "name": "ipython",
    "version": 3
   },
   "file_extension": ".py",
   "mimetype": "text/x-python",
   "name": "python",
   "nbconvert_exporter": "python",
   "pygments_lexer": "ipython3",
   "version": "3.8.1"
  },
  "orig_nbformat": 4
 },
 "nbformat": 4,
 "nbformat_minor": 2
}
